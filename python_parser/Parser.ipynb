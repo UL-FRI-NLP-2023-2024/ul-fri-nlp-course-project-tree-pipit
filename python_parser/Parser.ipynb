{
 "cells": [
  {
   "cell_type": "code",
   "execution_count": 66,
   "id": "c4da2271-7ede-45fe-a787-5eda8861f8f7",
   "metadata": {},
   "outputs": [],
   "source": [
    "from bs4 import BeautifulSoup\n",
    "import os\n",
    "with open('../NLP- forumi/forum.over.net/forum/tema/3-svetovna-vojna-3-24900585/index.html', 'r', encoding='utf-8') as f:\n",
    "    h = f.read()"
   ]
  },
  {
   "cell_type": "code",
   "execution_count": 97,
   "id": "3dd507f4-8bad-4266-a981-584444bb15dc",
   "metadata": {},
   "outputs": [
    {
     "name": "stdout",
     "output_type": "stream",
     "text": [
      "{'title': '3. svetovna vojna', 'comments': [{'id': '24900585', 'user': 'tiaaa907', 'date': '04.12.2023 ob 08:38', 'quote': None, 'content': 'dobro napisal eden v zvezi napada na ameriško ladjo;Bliža se to, pred čemer si zatiskate oči in trepetate, to je svetovna vojna in Rusija jo že podpihuje, saj Putin že nekaj časa nagovarja Ruse in Rusinje…, kaj bodo pa naredili Arabci na Bližnjem vzhodu pa nihče ne ve!wolfman@'}, {'id': '24900594', 'user': 'Zvarek', 'date': '04.12.2023 ob 08:46', 'quote': None, 'content': 'Tretja svetovna vojna se je že začela, v Ukrajini in Izraelu gledamo še uporabo ognjene sile. Kar se dogaja na obeh območjih pa ni vredno besede vojna, ampak pokol prebivalstva in vojakov iz ene in druge strani.V ozadju pa se vojna igra na finančnem parketu in vplivu. Je pa samo vprašanje časa, kdaj bodo bombe padale tudi po Evropi… osebno pričakujem odprtje dveh front – prva bo na balkanu kjer se veselo kuha, druga bodo pa baltske države, ko Ukrajina crkne.Evropa se je zaklala s slepim padjašenjem s ZDA, ki samo iščejo načine, kje bodo odmetavale bombe; vtikanje v zadeve drugih pa je sploh eden glavnih failov zahoda – povsod se rine zraven, namesto da bi reševal svoje probleme. Zato pa smo tam, kjer smo.Je pa človeštvo dokazalo, da med srednjim vekom in današnjim stoletje ni velike razlike, razen v tehničnem napredku. Človek je večinoma še vedno navadno krvoločno prase, ki išče načine za kurbarijo in ubijanje ter virus planeta, saj je planet že dodobra upostošil.'}, {'id': '24900600', 'user': 'tiaaa907', 'date': '04.12.2023 ob 08:49', 'quote': None, 'content': 'moj dedek pri skoraj 100 letih pravi tudi, da se je že začelo. Prazne gostilne, trgovine, kriza je samo uvod, sploh po podeželju so že hiše strahov ti mali kraji'}, {'id': '24900603', 'user': 'Anonimno 9161', 'date': '04.12.2023 ob 08:50', 'quote': '24900594', 'content': 'Nič se ni začela. Ko bo se začela, ti bodo krogle žvižgale v glavo. Tud če je glava trda, bo dovolj ena krogla. Ve se kaj je vojna in nehajte s takimi neumnostmi troli zabiti.'}, {'id': '24900610', 'user': 'tiaaa907', 'date': '04.12.2023 ob 08:55', 'quote': '24900603', 'content': 'tudi 2. svetovna se ni začela takoj povsod. Če opazuješ vse znake, vojna v Ukrajini, Palestina, napetosti na Balkanu, Iran, gospodarska kriza v EU, napetosti na poljski meji… manjka samo še kapljica, da se razplamtijo stvari do večje eskalacije'}, {'id': '24900616', 'user': 'Zvarek', 'date': '04.12.2023 ob 08:57', 'quote': None, 'content': '@Anonimno9161: če ne gre za napad Rusije na San Marino (ki jo lahko pohodiš z dovolj veliko vojsko) se ne dobi vojne samo na terenu, ampak v ekonomski moči države. In blesavemu zahodu že nekaj časa precej škripa… in tukaj je tretja svetovna vojna že fino v teku; ni vojna samo streljanje in pošiljanje bomb. Dober strateg bo najprej oslabil državo, nato pa usekal.'}, {'id': '24900629', 'user': 'Anonimno 8957', 'date': '04.12.2023 ob 09:06', 'quote': '24900610', 'content': 'Dajte nehajte\\xa0 troli. Preberite kaj in se poučite o čem. Eni že deset let ponavljate, da se je svetovna vojna že začela, pa si niti v sanjah ne predstavljate, kaj sploh je vojna. Dokler je ne boste občutili na lastni debeli koži.'}, {'id': '24900654', 'user': 'Zvarek', 'date': '04.12.2023 ob 09:27', 'quote': None, 'content': '@Anonimno9857: ti si kar zatiskaj oči. Edino kar morda lahko prepreči vojno, je menjava garniture politikov na naslednjih evropskih volitvah. Pa ne samo, da zahod rine svoj nos v vsak drek in s tem čaka na vojno, še “nasprtonike” futramo in jih plačujemo, da se plodijo po Evropi. Za lastne državljanje pa ni denarja.'}, {'id': '24900660', 'user': 'biološko kemična klimatska vojna', 'date': '04.12.2023 ob 09:30', 'quote': None, 'content': 'Anonimno8957, že par let je ves svet v biološko-kemični-klimatski vojni! Presneto dobro smo in še čutimo posledice biološkega, kemičnega in klimatskega orožja! Mafija ki se ima za elito, udejanja že davno načrtovano iztrebljanje človeštva. Dokler človeštvo ne bo spregledalo njihovih norih načrtov, se bo pač nadaljevalo medsebojno uničevanje. Šele potem bo mir, ko bo vsak videl, da s sodelovanjem v njihovi igri povzroča škodo sebi in celotnemu človeštvu.'}, {'id': '24900668', 'user': 'robi9', 'date': '04.12.2023 ob 09:39', 'quote': None, 'content': 'Ker covid je slučajno preskočil iz netopirja, nima to nobene veze z vojno in idejami bolnikov o depopulaciji.'}, {'id': '24900671', 'user': 'Anonimno 4461', 'date': '04.12.2023 ob 09:42', 'quote': '24900668', 'content': 'Eni že več kot trideset let nabijate, da se je svetovna vojna že začela. Še preden ste imeli internet, ste pa za šankom to kvasili.🤣🤣🤣'}, {'id': '24900678', 'user': 'CrazY FroG 🍀', 'date': '04.12.2023 ob 09:46', 'quote': None, 'content': 'Kakšna tretja, a nismo pol v brezčasni, stalne manipulacije, pohlep, podtipkanja, grabljenje in vmesni slučaji..'}, {'id': '24900679', 'user': 'rok-1', 'date': '04.12.2023 ob 09:47', 'quote': None, 'content': 'Gre samo za semantiko in kako razumeš stvari; klasične svetovne vojne ni in je zelo verjetno ne bo. Dogaja pa se krčenje virov za cel svet – in ko se viri krčijo, populacija pa ostaja ali celo še raste, postajamo bolj neprijazni med sabo. Itak se grizemo na čedalje več frontah in kam bo šlo je odvisno predvsem od razmerja viri/populacija.Na to pa poleg naravnih virov vpliva tudi tehnologija oz novi viri.'}, {'id': '24900695', 'user': 'Anonimno 3656', 'date': '04.12.2023 ob 09:58', 'quote': '24900679', 'content': 'A seveda. Klasične ne bo. V Ukrajini in drugje virtualne rakete vžigajo pod ritmi.🤣 Države se pospešeno “virtualno” oborožujejo že kar nekaj zadnjih let.O svetovni vojni sanjate vedno isti že od otroških let in bluzite, da se je že začela\\xa0 Prazni v sebi in čakate na rešitev z neko višjo silo. Ne, svetovne vojne ni. Je pa žal velika verjetnost, da bo današnje stanje prešlo v svetovno vojno. Ko boste občutili, boste že znali ločit kaj je vojna in o čem danes bluzite, da je svetovna vojna.'}, {'id': '24900721', 'user': 'Slovenski domoljup', 'date': '04.12.2023 ob 10:13', 'quote': None, 'content': 'Sloveniji ni potrebno skrbeti, ker imamo vse potrebno da se ubranimo pred napadi še tako močnega agresorja. Imamo klet v Cankarjevem domu in imamo gospoda Janeza Janšo, edinega ki lahko premaga še tako mogočne armade.'}, {'id': '24900722', 'user': 'rok-1', 'date': '04.12.2023 ob 10:13', 'quote': None, 'content': 'O čem konkretno govori tole zgoraj? Bi razložil razloge, ozadja, alternative, itd… ali samo napovedoval črno usodo, tako kot tista pisanja o valovih odpuščanj v službah?'}, {'id': '24900731', 'user': 'robi9', 'date': '04.12.2023 ob 10:16', 'quote': '24900722', 'content': 'Debil, od kdaj obstajajo samo klasične vojne ?Pred petdesetimi leti so tudi govorili o klasičnih vojnah z loki in meči.'}, {'id': '24900737', 'user': 'CrazY FroG 🍀', 'date': '04.12.2023 ob 10:23', 'quote': None, 'content': 'In zdj bo v tej temi nastala TIPKANA vojna.. “js mam prav”, “ne, js mam prav” weeeee..pametno!'}, {'id': '24900745', 'user': 'rok-1', 'date': '04.12.2023 ob 10:32', 'quote': '24900737', 'content': 'Brez skrbi, z moje strani ne bo. Tapametni še vedno niti prebrati ne znajo, kaj šele razumeti, debata, kaj šele ostra in argumentirana debata, ki je res lahko podobna tipkani vojni, tu nima smisla.'}, {'id': '24900816', 'user': 'robi9', 'date': '04.12.2023 ob 11:22', 'quote': '24900745', 'content': 'A ti se imaš za pametnega, zagovornik fašizma in zločina nad človeštvom ?Ki zaupa lažnivi prodani stoki ?Ravno takšni, ki se imate za fine, ste največji krivci za vojne, ker brez vas, konformističnih debilov, ne bi bilo vojn.'}, {'id': '24900827', 'user': 'Kokoši anonimno', 'date': '04.12.2023 ob 11:28', 'quote': '24900594', 'content': '…………………………..…………………………..\\xa0“Zvarek”,tudi ti na lastnem primeru dokazuješ, da med srednjim vekom in današnjim stoletjem ni velike razlike. S svojo homofobijo.'}, {'id': '24900829', 'user': 'jon sneg rtv', 'date': '04.12.2023 ob 11:33', 'quote': None, 'content': 'Na oni strani luže se nam smejijo in si veselo manejo roke,…, mi v Evropi pa smo se ustrelili v koleno,…, in to večkrat. Ali pa počno to voditelji EU načrtno? Ta ukrajinska zgodba nas zelo stane veliko,…, pa še bolj nas bo bolela glava,…https://www.rtvslo.si/svet/evropa/na-poljsko-ukrajinski-meji-kar-65-kilometrov-dolga-kolona-tovornjakov/690402'}, {'id': '24900833', 'user': 'robi9', 'date': '04.12.2023 ob 11:35', 'quote': '24900829', 'content': 'Seveda je načrtno, ker so politični mafijaši ameriški vazali.'}, {'id': '24900840', 'user': 'Kokoši anonimno', 'date': '04.12.2023 ob 11:39', 'quote': '24900833', 'content': 'Najbolje bi bilo, da se Rusijo, ki ne spoštuje pravic LGB ljudi uniči, saj to ni civilizirana država in ne spada v civiliziran svet.'}, {'id': '24900859', 'user': 'Kokoši anonimno', 'date': '04.12.2023 ob 11:55', 'quote': None, 'content': 'Odgovor na objavo uporabnika jon sneg rtv, 04.12.2023 ob 11:33Na oni strani luže se nam smejijo in si veselo manejo roke,…, mi v Evropi pa smo se ustrelili v koleno,…, in to večkrat. Ali pa počno to voditelji EU načrtno? Ta ukrajinska zgodba nas zelo stane veliko,…, pa še bolj nas bo bolela glava,…\\xa0………………………………………………………..\\xa0“JON SNEG”,\\xa0Rusijo je treba uničiti.Takšna homofobična necivilizirana država ne sme imeti moči v svetu.Je pa zanimivo, da pišeš tu proti Ameriki ti zaamerikaniziranec, ki si dal si za vzdevek ime lika iz Ameriške serije.Mimogrede pisec IGRE PRESTOLOV je primitivec, ki se z veseljem spravlja na šibkejšo Severno Korejo in bi se mu verjetno smejalo, če bi jo Američani ponovno napadli. Stavim da enako razmišlja o Rusiji.'}]}\n"
     ]
    }
   ],
   "source": [
    "def parse_html_starsevski_cvek(html_content): #forum.over.net\n",
    "    article_array = []\n",
    "    comment_array = []\n",
    "    soup = BeautifulSoup(html_content, 'html.parser')\n",
    "\n",
    "    # Find all <article> tags in the HTML content\n",
    "    articles = soup.find_all('article',class_='page__inner')\n",
    "    title_element=soup.find('h1', class_='title title--large')\n",
    "    for article in articles:\n",
    "        for comment in article.find_all(class_=\"js-forumPost\"):\n",
    "            comment_user = comment.find('span', class_='title--author')\n",
    "            comment_content = comment.find('div',class_='forum-post__content')\n",
    "            comment_post_date=comment.find('span',class_=\"text text--small u-light\")\n",
    "            comment_post_id = comment.get('id').replace('post-', '')\n",
    "            comment_quote = comment.find('div',class_=\"forum-post__quote\")\n",
    "\n",
    "            quote = comment_quote.get(\"data-quoteid\") if comment_quote else None\n",
    "            user = comment_user.text.strip() if comment_user else None\n",
    "            post_date = comment_post_date.text.strip() if comment_post_date else None\n",
    "            \n",
    "            if quote and len(comment_content.find_all('p'))>0: #To fix content (remove quote)\n",
    "                comment_content.find('div', class_=\"forum-post__quote\").decompose()  \n",
    "            content = comment_content.text.strip() if comment_content else None\n",
    "            \n",
    "            comments={\n",
    "            \"id\":comment_post_id,\n",
    "            \"user\":user,\n",
    "            \"date\":post_date,\n",
    "            \"quote\":quote,\n",
    "            \"content\":str(content)\n",
    "            \n",
    "            }\n",
    "            comment_array.append(comments)\n",
    "\n",
    "        #title_element = article.find('h1', class_='title title--large')\n",
    "    title = title_element.text.strip() if title_element else None\n",
    "    article_data = {\n",
    "        'title': title,\n",
    "        'comments': comment_array\n",
    "    }\n",
    "\n",
    "    return article_data\n",
    "\n",
    "# Call the parse_html function with the example HTML content\n",
    "parsed_articles = parse_html_starsevski_cvek(h)\n",
    "\n",
    "# Print the array of <article> tags\n",
    "print(parsed_articles)\n"
   ]
  },
  {
   "cell_type": "code",
   "execution_count": 90,
   "id": "35bc0914-6474-4f49-baf4-04e0e79c4c09",
   "metadata": {},
   "outputs": [],
   "source": [
    "def read_index_html_files(root_folder):\n",
    "    html_content_list = []\n",
    "    \n",
    "    # Traverse through the root folder and its subdirectories\n",
    "    for root, dirs, files in os.walk(root_folder):\n",
    "        for file in files:\n",
    "            # Check if the file is named \"index.html\"\n",
    "            if file == \"index.html\":\n",
    "                # Get the file path\n",
    "                file_path = os.path.join(root, file)\n",
    "\n",
    "                # Read the contents of the file\n",
    "                with open(file_path, 'r', encoding='utf-8') as f:\n",
    "                    try:\n",
    "                        html_content = f.read()\n",
    "                    except:\n",
    "                        continue\n",
    "\n",
    "                    html_content_list.append(html_content)\n",
    "\n",
    "    return html_content_list\n",
    "\n",
    "# Example usage:\n",
    "root_folder = \"../NLP- forumi/forum.over.net/forum/tema\"\n",
    "parsed_html_list = read_index_html_files(root_folder)\n"
   ]
  },
  {
   "cell_type": "code",
   "execution_count": 98,
   "id": "0f038eee-1551-4a93-a5e0-dc02e5cb523f",
   "metadata": {},
   "outputs": [],
   "source": [
    "for doc in parsed_html_list:\n",
    "    parse_html_starsevski_cvek(doc)"
   ]
  },
  {
   "cell_type": "code",
   "execution_count": null,
   "id": "d359e4bd-87f6-4cc5-8ddc-fb206d20035d",
   "metadata": {},
   "outputs": [],
   "source": []
  }
 ],
 "metadata": {
  "kernelspec": {
   "display_name": "Python 3 (ipykernel)",
   "language": "python",
   "name": "python3"
  },
  "language_info": {
   "codemirror_mode": {
    "name": "ipython",
    "version": 3
   },
   "file_extension": ".py",
   "mimetype": "text/x-python",
   "name": "python",
   "nbconvert_exporter": "python",
   "pygments_lexer": "ipython3",
   "version": "3.11.0"
  }
 },
 "nbformat": 4,
 "nbformat_minor": 5
}
