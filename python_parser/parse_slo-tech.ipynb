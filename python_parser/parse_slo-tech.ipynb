{
 "cells": [
  {
   "cell_type": "code",
   "execution_count": 1,
   "id": "e428212a-5365-4bb7-bd13-45c69764b24a",
   "metadata": {},
   "outputs": [],
   "source": [
    "from bs4 import BeautifulSoup\n",
    "import glob\n",
    "from tqdm import tqdm"
   ]
  },
  {
   "cell_type": "code",
   "execution_count": 2,
   "id": "9e098e7d-c1f7-4a57-b42a-6bc5168e4104",
   "metadata": {},
   "outputs": [],
   "source": [
    "def parse_slotech_post(post):\n",
    "    return {\n",
    "        'user': post.find('a', class_='avatar').get('title'),\n",
    "        'time': post.find('time').get('datetime'),\n",
    "        'text': post.find('div', class_='content').text,\n",
    "    }"
   ]
  },
  {
   "cell_type": "code",
   "execution_count": 3,
   "id": "739e73d5-8129-47dd-880e-a23937b484ce",
   "metadata": {},
   "outputs": [],
   "source": [
    "def parse_slotech_thread(filename):\n",
    "    with open(filename, 'r', encoding='utf-8') as f:\n",
    "        h = f.read()\n",
    "    soup = BeautifulSoup(h, 'html.parser')\n",
    "\n",
    "    content = soup.find('div', id='content')\n",
    "\n",
    "    h2 = content.find('h2')\n",
    "    subforum = h2.find_all('span', {'itemprop': True})[-1].text\n",
    "    title = content.find('h3').text\n",
    "\n",
    "    posts = soup.find_all('div', class_='post')\n",
    "\n",
    "    return {\n",
    "        'file': filename,\n",
    "        'subforum': subforum,\n",
    "        'title': title,\n",
    "        'data': [parse_slotech_post(post) for post in posts]\n",
    "    }"
   ]
  },
  {
   "cell_type": "code",
   "execution_count": 13,
   "id": "6c26c3a1-ead2-4d58-bcf8-89b0c577c200",
   "metadata": {},
   "outputs": [],
   "source": [
    "threads = glob.glob('HTTRack/SloTech/slo-tech.com/forum/t*.html')\n",
    "threads.extend(glob.glob('HTTRack/SloTech/slo-tech.com/forum/**/[123456789]*.html'))"
   ]
  },
  {
   "cell_type": "code",
   "execution_count": 14,
   "id": "8cb87520-1ae6-455f-ac50-98b0f8996c67",
   "metadata": {},
   "outputs": [
    {
     "data": {
      "text/plain": [
       "60165"
      ]
     },
     "execution_count": 14,
     "metadata": {},
     "output_type": "execute_result"
    }
   ],
   "source": [
    "len(threads)"
   ]
  },
  {
   "cell_type": "code",
   "execution_count": 15,
   "id": "33ff6067-f173-49dd-b645-5acd580c4833",
   "metadata": {},
   "outputs": [],
   "source": [
    "parsed = []"
   ]
  },
  {
   "cell_type": "code",
   "execution_count": 16,
   "id": "e686691d-6873-4ae2-bb32-6cb5021a743f",
   "metadata": {},
   "outputs": [
    {
     "name": "stderr",
     "output_type": "stream",
     "text": [
      "100%|███████████████████████████████████████████████████████████████████████████| 60165/60165 [2:37:58<00:00,  6.35it/s]\n"
     ]
    }
   ],
   "source": [
    "with tqdm(total=len(threads)) as pbar:\n",
    "    for thread in threads:\n",
    "        try:\n",
    "            parsed.append(parse_slotech_thread(thread))\n",
    "        except:\n",
    "            pass\n",
    "        pbar.update(1)"
   ]
  },
  {
   "cell_type": "code",
   "execution_count": 17,
   "id": "839ca7fe-670f-45ba-962f-cb62aa0deb6f",
   "metadata": {},
   "outputs": [
    {
     "data": {
      "text/plain": [
       "58235"
      ]
     },
     "execution_count": 17,
     "metadata": {},
     "output_type": "execute_result"
    }
   ],
   "source": [
    "len(parsed)"
   ]
  },
  {
   "cell_type": "code",
   "execution_count": 19,
   "id": "cbea6038-a15f-4f64-8458-03e535419327",
   "metadata": {},
   "outputs": [],
   "source": [
    "import json\n",
    "with open('parsed_slo-tech.json', 'w', encoding='utf-8') as f:\n",
    "    json.dump(parsed, f, ensure_ascii=False)"
   ]
  }
 ],
 "metadata": {
  "kernelspec": {
   "display_name": "Python 3 (ipykernel)",
   "language": "python",
   "name": "python3"
  },
  "language_info": {
   "codemirror_mode": {
    "name": "ipython",
    "version": 3
   },
   "file_extension": ".py",
   "mimetype": "text/x-python",
   "name": "python",
   "nbconvert_exporter": "python",
   "pygments_lexer": "ipython3",
   "version": "3.10.12"
  }
 },
 "nbformat": 4,
 "nbformat_minor": 5
}
